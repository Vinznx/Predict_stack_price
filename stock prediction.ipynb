{
 "cells": [
  {
   "cell_type": "markdown",
   "metadata": {},
   "source": [
    "## Project: Stock Prediction\n",
    "### Make an app which applies Machine Learning to predict the price increase or decrease in the next day.\n",
    "\n",
    "### 1) Who will be benefited from this program?\n",
    "      -- People who wants a small investment in the stock. \n",
    "      -- People who has a few knowledge of the stock.\n",
    "      -- People who don't want to spend too much time in studying the stock.\n",
    "\n",
    "### 2) What is difference from this program to the others?\n",
    "      -- Applying Machine Learning methods (LSTM, NN, etc) to study each stock.\n",
    "      -- Giving statistic but \"friendly\" results."
   ]
  },
  {
   "cell_type": "markdown",
   "metadata": {},
   "source": [
    "## Data\n",
    "\n",
    "yfinance is a popular open source library developed by Ran Aroussi as a means to access the financial data available on Yahoo Finance.\n",
    "\n",
    "    -- Free\n",
    "    -- Quick and easy to set up\n",
    "    -- Simple\n",
    "    -- High granularity of data (1min/2min/5min)"
   ]
  },
  {
   "cell_type": "code",
   "execution_count": 53,
   "metadata": {},
   "outputs": [],
   "source": [
    "import yfinance as yf\n",
    "import matplotlib.pyplot as plt\n",
    "\n",
    "tickerSymbol = 'GOOG'\n",
    "\n",
    "#get data\n",
    "tickerData = yf.Ticker(tickerSymbol)\n",
    "\n",
    "#get data in the time \n",
    "ticker_df = tickerData.history(period='1d', start='2010-1-1', end='2020-1-1')"
   ]
  },
  {
   "cell_type": "code",
   "execution_count": 54,
   "metadata": {},
   "outputs": [
    {
     "data": {
      "text/html": [
       "<div>\n",
       "<style scoped>\n",
       "    .dataframe tbody tr th:only-of-type {\n",
       "        vertical-align: middle;\n",
       "    }\n",
       "\n",
       "    .dataframe tbody tr th {\n",
       "        vertical-align: top;\n",
       "    }\n",
       "\n",
       "    .dataframe thead th {\n",
       "        text-align: right;\n",
       "    }\n",
       "</style>\n",
       "<table border=\"1\" class=\"dataframe\">\n",
       "  <thead>\n",
       "    <tr style=\"text-align: right;\">\n",
       "      <th></th>\n",
       "      <th>Open</th>\n",
       "      <th>High</th>\n",
       "      <th>Low</th>\n",
       "      <th>Close</th>\n",
       "      <th>Volume</th>\n",
       "      <th>Dividends</th>\n",
       "      <th>Stock Splits</th>\n",
       "    </tr>\n",
       "    <tr>\n",
       "      <th>Date</th>\n",
       "      <th></th>\n",
       "      <th></th>\n",
       "      <th></th>\n",
       "      <th></th>\n",
       "      <th></th>\n",
       "      <th></th>\n",
       "      <th></th>\n",
       "    </tr>\n",
       "  </thead>\n",
       "  <tbody>\n",
       "    <tr>\n",
       "      <td>2010-01-04</td>\n",
       "      <td>312.304413</td>\n",
       "      <td>313.579620</td>\n",
       "      <td>310.954468</td>\n",
       "      <td>312.204773</td>\n",
       "      <td>3927000</td>\n",
       "      <td>0</td>\n",
       "      <td>0.0</td>\n",
       "    </tr>\n",
       "    <tr>\n",
       "      <td>2010-01-05</td>\n",
       "      <td>312.418976</td>\n",
       "      <td>312.747742</td>\n",
       "      <td>309.609497</td>\n",
       "      <td>310.829926</td>\n",
       "      <td>6031900</td>\n",
       "      <td>0</td>\n",
       "      <td>0.0</td>\n",
       "    </tr>\n",
       "    <tr>\n",
       "      <td>2010-01-06</td>\n",
       "      <td>311.761444</td>\n",
       "      <td>311.761444</td>\n",
       "      <td>302.047852</td>\n",
       "      <td>302.994293</td>\n",
       "      <td>7987100</td>\n",
       "      <td>0</td>\n",
       "      <td>0.0</td>\n",
       "    </tr>\n",
       "    <tr>\n",
       "      <td>2010-01-07</td>\n",
       "      <td>303.562164</td>\n",
       "      <td>303.861053</td>\n",
       "      <td>295.218445</td>\n",
       "      <td>295.940735</td>\n",
       "      <td>12876600</td>\n",
       "      <td>0</td>\n",
       "      <td>0.0</td>\n",
       "    </tr>\n",
       "    <tr>\n",
       "      <td>2010-01-08</td>\n",
       "      <td>294.894653</td>\n",
       "      <td>300.498657</td>\n",
       "      <td>293.455048</td>\n",
       "      <td>299.885956</td>\n",
       "      <td>9483900</td>\n",
       "      <td>0</td>\n",
       "      <td>0.0</td>\n",
       "    </tr>\n",
       "  </tbody>\n",
       "</table>\n",
       "</div>"
      ],
      "text/plain": [
       "                  Open        High         Low       Close    Volume  \\\n",
       "Date                                                                   \n",
       "2010-01-04  312.304413  313.579620  310.954468  312.204773   3927000   \n",
       "2010-01-05  312.418976  312.747742  309.609497  310.829926   6031900   \n",
       "2010-01-06  311.761444  311.761444  302.047852  302.994293   7987100   \n",
       "2010-01-07  303.562164  303.861053  295.218445  295.940735  12876600   \n",
       "2010-01-08  294.894653  300.498657  293.455048  299.885956   9483900   \n",
       "\n",
       "            Dividends  Stock Splits  \n",
       "Date                                 \n",
       "2010-01-04          0           0.0  \n",
       "2010-01-05          0           0.0  \n",
       "2010-01-06          0           0.0  \n",
       "2010-01-07          0           0.0  \n",
       "2010-01-08          0           0.0  "
      ]
     },
     "execution_count": 54,
     "metadata": {},
     "output_type": "execute_result"
    }
   ],
   "source": [
    "# data structure\n",
    "ticker_df.head(5)"
   ]
  },
  {
   "cell_type": "code",
   "execution_count": 55,
   "metadata": {},
   "outputs": [
    {
     "data": {
      "text/plain": [
       "[<matplotlib.lines.Line2D at 0x7f83c7b77510>]"
      ]
     },
     "execution_count": 55,
     "metadata": {},
     "output_type": "execute_result"
    },
    {
     "data": {
      "image/png": "[encoded data removed]",
      "text/plain": [
       "<Figure size 432x288 with 1 Axes>"
      ]
     },
     "metadata": {
      "needs_background": "light"
     },
     "output_type": "display_data"
    }
   ],
   "source": [
    "#close price \n",
    "plt.plot(ticker_df['Close'])"
   ]
  },
  {
   "cell_type": "markdown",
   "metadata": {},
   "source": [
    "### Idea\n",
    "    The close price will go up or down in the next day?"
   ]
  },
  {
   "cell_type": "markdown",
   "metadata": {},
   "source": [
    "### Simpliest NN Model\n",
    "    -- Input: stock price in the last 50 days. \n",
    "    -- Output: stock price will go up or down."
   ]
  },
  {
   "cell_type": "code",
   "execution_count": 56,
   "metadata": {},
   "outputs": [],
   "source": [
    "#collect data\n",
    "import pandas as pd\n",
    "import numpy as np\n",
    "train=[]\n",
    "for i in range(1000):\n",
    "    tmp = ticker_df['Close'][i+51]-ticker_df['Close'][i+50]\n",
    "    if tmp >= 0:\n",
    "        train.append([np.array(ticker_df['Close'][i:i+50]),[1,0]])\n",
    "    else:\n",
    "        train.append([np.array(ticker_df['Close'][i:i+50]),[0,1]])\n",
    "np.random.shuffle(train)\n",
    "VLC_PCT=0.1\n",
    "val_size=int(len(train)*VLC_PCT)\n",
    "\n",
    "train_df=train[:-val_size]\n",
    "test_df=train[-val_size:]"
   ]
  },
  {
   "cell_type": "code",
   "execution_count": 58,
   "metadata": {},
   "outputs": [
    {
     "name": "stdout",
     "output_type": "stream",
     "text": [
      "Net(\n",
      "  (fc1): Linear(in_features=50, out_features=50, bias=True)\n",
      "  (fc2): Linear(in_features=50, out_features=2, bias=True)\n",
      ")\n"
     ]
    }
   ],
   "source": [
    "## NN Model\n",
    "import torch\n",
    "import torch.nn as nn\n",
    "import torch.nn.functional as F\n",
    "\n",
    "class Net(nn.Module):\n",
    "\n",
    "    def __init__(self):\n",
    "        super(Net, self).__init__()\n",
    "       \n",
    "        self.fc1 = nn.Linear(50, 50)  \n",
    "        self.fc2 = nn.Linear(50, 2)\n",
    "\n",
    "    def forward(self, x):\n",
    "        \n",
    "        x = F.relu(self.fc1(x))\n",
    "        x = self.fc2(x)\n",
    "        return F.softmax(x,dim=0)\n",
    "\n",
    "net = Net()\n",
    "print(net)"
   ]
  },
  {
   "cell_type": "code",
   "execution_count": 62,
   "metadata": {},
   "outputs": [
    {
     "name": "stderr",
     "output_type": "stream",
     "text": [
      "100%|██████████| 45/45 [00:00<00:00, 649.50it/s]\n",
      "100%|██████████| 45/45 [00:00<00:00, 988.40it/s]\n",
      "100%|██████████| 45/45 [00:00<00:00, 1005.92it/s]\n"
     ]
    }
   ],
   "source": [
    "#train the model\n",
    "import torch.optim as optim\n",
    "from tqdm import tqdm\n",
    "optimizer = optim.Adam(net.parameters(),lr=1e-3)\n",
    "loss_function=nn.MSELoss()\n",
    "\n",
    "x=torch.Tensor([i[0] for i in train_df]).view(-1,50)\n",
    "y=torch.Tensor([i[1] for i in train_df])\n",
    "\n",
    "batch_size=20\n",
    "epochs = 3\n",
    "for epoch in range(epochs):\n",
    "    for i in tqdm(range(0,len(x),batch_size)):\n",
    "        batch_x = x[i:i+batch_size].view(-1,1,50)\n",
    "        batch_y = y[i:i+batch_size]\n",
    "        \n",
    "        net.zero_grad()\n",
    "        outputs = net(batch_x)\n",
    "        loss=loss_function(outputs,batch_y)\n",
    "        loss.backward()\n",
    "        optimizer.step()        \n",
    "\n"
   ]
  },
  {
   "cell_type": "code",
   "execution_count": 65,
   "metadata": {},
   "outputs": [
    {
     "name": "stdout",
     "output_type": "stream",
     "text": [
      "Accuracy: 0.52\n"
     ]
    }
   ],
   "source": [
    "x=torch.Tensor([i[0] for i in test_df]).view(-1,50)\n",
    "y=torch.Tensor([i[1] for i in test_df])\n",
    "\n",
    "correct=0\n",
    "total=0\n",
    "with torch.no_grad():\n",
    "    for i in range(len(x)):\n",
    "        real_class=torch.argmax(y[i])\n",
    "        net_out=net(x[i].view(-1,1,50))[0]\n",
    "        predicted_class = torch.argmax(net_out)\n",
    "        if predicted_class==real_class:\n",
    "            correct +=1\n",
    "        total+=1\n",
    "print (\"Accuracy:\",correct/total)"
   ]
  },
  {
   "cell_type": "markdown",
   "metadata": {},
   "source": [
    "### Results to show\n",
    "    -- Prediction: up or down.\n",
    "    -- Prediction in the last 20 days.\n",
    "    -- Prediction from different models."
   ]
  },
  {
   "cell_type": "markdown",
   "metadata": {},
   "source": [
    "### Future work\n",
    "    -- Tuning hyperparameters\n",
    "    -- Add more features: open, high, low, volumne, stock index,etc.\n",
    "    -- Add more models: LSTM etc.\n",
    "    "
   ]
  }
 ],
 "metadata": {
  "kernelspec": {
   "display_name": "Python 3",
   "language": "python",
   "name": "python3"
  },
  "language_info": {
   "codemirror_mode": {
    "name": "ipython",
    "version": 3
   },
   "file_extension": ".py",
   "mimetype": "text/x-python",
   "name": "python",
   "nbconvert_exporter": "python",
   "pygments_lexer": "ipython3",
   "version": "3.7.4"
  }
 },
 "nbformat": 4,
 "nbformat_minor": 2
}
